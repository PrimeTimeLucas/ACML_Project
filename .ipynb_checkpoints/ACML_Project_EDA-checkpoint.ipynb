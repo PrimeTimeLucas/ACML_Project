{
 "cells": [
  {
   "cell_type": "markdown",
   "id": "2d689862-4736-4938-b5f8-4e8fb3787f1d",
   "metadata": {},
   "source": [
    "# GTZAN Dataset - Music Genre Classification"
   ]
  },
  {
   "cell_type": "markdown",
   "id": "d173edbb-c1e4-4e2a-bbaa-10ce74a90a0b",
   "metadata": {},
   "source": [
    "In this notebook we import and explore the data to identify its feature, what they mean and how they relate to our response variable."
   ]
  },
  {
   "cell_type": "markdown",
   "id": "dec95f13-e501-4103-a1ab-69aac3534435",
   "metadata": {},
   "source": [
    "## Importing Libraries"
   ]
  },
  {
   "cell_type": "code",
   "execution_count": 2,
   "id": "92998a80-e3cf-43ff-b48a-758ea5f46af5",
   "metadata": {},
   "outputs": [],
   "source": [
    "import numpy as np\n",
    "import pandas as pd\n",
    "import matplotlib.pyplot as plt\n",
    "import librosa, IPython\n",
    "import librosa.display as Iplt"
   ]
  },
  {
   "cell_type": "markdown",
   "id": "f9b30351-4fe4-4dce-83c9-73d3c0fe961c",
   "metadata": {},
   "source": [
    "## Loading Dataset"
   ]
  },
  {
   "cell_type": "code",
   "execution_count": null,
   "id": "835843dd-95fa-47a9-945b-c339f225ea54",
   "metadata": {},
   "outputs": [],
   "source": [
    "df = pd.read_csv"
   ]
  }
 ],
 "metadata": {
  "kernelspec": {
   "display_name": "Python 3 (ipykernel)",
   "language": "python",
   "name": "python3"
  },
  "language_info": {
   "codemirror_mode": {
    "name": "ipython",
    "version": 3
   },
   "file_extension": ".py",
   "mimetype": "text/x-python",
   "name": "python",
   "nbconvert_exporter": "python",
   "pygments_lexer": "ipython3",
   "version": "3.8.12"
  }
 },
 "nbformat": 4,
 "nbformat_minor": 5
}
